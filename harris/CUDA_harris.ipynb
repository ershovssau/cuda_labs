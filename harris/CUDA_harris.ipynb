{
  "nbformat": 4,
  "nbformat_minor": 0,
  "metadata": {
    "colab": {
      "name": "CUDA_harris.ipynb",
      "provenance": []
    },
    "kernelspec": {
      "name": "python3",
      "display_name": "Python 3"
    },
    "accelerator": "GPU"
  },
  "cells": [
    {
      "cell_type": "code",
      "metadata": {
        "colab": {
          "base_uri": "https://localhost:8080/",
          "height": 1000
        },
        "id": "LEtv_wFXUw1d",
        "outputId": "38349582-9e76-4331-9ef4-a92c0cbe78ad"
      },
      "source": [
        "import numpy as np\r\n",
        "from numba import cuda\r\n",
        "from time import time\r\n",
        "import matplotlib.pyplot as plt\r\n",
        "import warnings\r\n",
        "from PIL import Image\r\n",
        "import math\r\n",
        "warnings.filterwarnings('ignore')\r\n",
        "\r\n",
        "# расширение изображения (крайние ряды дублируются)\r\n",
        "def extend_img(img):\r\n",
        "  a = img.copy()\r\n",
        "  a = np.vstack((a[0][:], a, a[len(a)-1][:]))\r\n",
        "  return np.vstack(np.array([np.hstack((a[i][0], a[i], a[i][len(a[i])-1])) for i in range(len(a))]))\r\n",
        "\r\n",
        "# реализация алгоритма на cpu\r\n",
        "def harris_cpu(im):\r\n",
        "  mark = np.zeros((im.shape[0], im.shape[1]), dtype=np.int16)\r\n",
        "  start = time()\r\n",
        "  for i in range(1,im.shape[0]-1):\r\n",
        "    for j in range(1, im.shape[1]-1):\r\n",
        "      # вычисляем используя фильтр собеля\r\n",
        "      Ix = im[i-1][j-1]*-1 + im[i-1][j+1]*1 + im[i][j-1]*-2 + im[i][j+1]*2 + im[i+1][j-1]*-1 + im[i+1][j+1]*1\r\n",
        "      Iy = im[i-1][j-1]*-1 + im[i-1][j]*-2 + im[i-1][j+1]*-1 + im[i+1][j-1]*1 + im[i+1][j]*2 + im[i+1][j+1]*1\r\n",
        "      Ixx = Ix**2\r\n",
        "      Iyy = Iy**2\r\n",
        "      Ixy = Ix*Iy\r\n",
        "      detA = Ixx*Iyy\r\n",
        "      traceA = Ixx+Iyy \r\n",
        "      mark[i][j] = detA - 0.05*traceA**2\r\n",
        "\r\n",
        "  return mark, time()-start\r\n",
        "\r\n",
        "# реализация алгоритма на gpu (а - результат, w - ширина, h - высота)\r\n",
        "@cuda.jit\r\n",
        "def harris_gpu(im, a, w, h):\r\n",
        "  i, j = cuda.grid(2)\r\n",
        "  if i>0 and j>0 and i<w[0] and j<h[0]:\r\n",
        "      Ix = im[i-1][j-1]*-1 + im[i-1][j+1]*1 + im[i][j-1]*-2 + im[i][j+1]*2 + im[i+1][j-1]*-1 + im[i+1][j+1]*1\r\n",
        "      Iy = im[i-1][j-1]*-1 + im[i-1][j]*-2 + im[i-1][j+1]*-1 + im[i+1][j-1]*1 + im[i+1][j]*2 + im[i+1][j+1]*1\r\n",
        "      Ixx = Ix**2\r\n",
        "      Iyy = Iy**2\r\n",
        "      Ixy = Ix*Iy\r\n",
        "      detA = Ixx*Iyy\r\n",
        "      traceA = Ixx+Iyy \r\n",
        "      a[i][j] = detA - 0.05*traceA**2\r\n",
        "\r\n",
        "# запуск gpu\r\n",
        "def exec_gpu(im, im_src):\r\n",
        "  # ширина и высота изображения\r\n",
        "  w = im.shape[0]\r\n",
        "  h = im.shape[1]\r\n",
        "  # массиво под результат\r\n",
        "  a = np.zeros((w, h), dtype=np.int16)\r\n",
        "  # копируем на девайс все нужные данные\r\n",
        "  a_global = cuda.to_device(a)\r\n",
        "  im_global = cuda.to_device(im)\r\n",
        "  w_global = cuda.to_device(w)\r\n",
        "  h_global = cuda.to_device(h)\r\n",
        "  # задаем сетку\r\n",
        "  blok = (32, 32)\r\n",
        "  grid = (int(math.ceil(w/blok[0])), int(math.ceil(h/blok[1])))\r\n",
        "\r\n",
        "  start = time()\r\n",
        "  harris_gpu[grid, blok](im_global, a_global, w_global, h_global)\r\n",
        "  end = time()-start\r\n",
        "\r\n",
        "  mark = a_global.copy_to_host()\r\n",
        "  # st = otm(np.array(im_src), im, a, im.shape[0], im.shape[1])\r\n",
        "  # display(Image.fromarray(np.uint8(st)).resize((2000, 2000)))\r\n",
        "  return mark, end\r\n",
        "  \r\n",
        "# отрисовка точек углов\r\n",
        "def draw_angle(im, mark):\r\n",
        "  #исходное изображение\r\n",
        "  a = im.copy()\r\n",
        "  for i in range(1, mark.shape[0]-1):\r\n",
        "    for j in range(1, mark.shape[1]-1):\r\n",
        "      # определяем локальные максимумы и перекрашиваем подходящие пикселы в красный цвет\r\n",
        "      if mark[i][j]>0:\r\n",
        "        t = mark[i][j]\r\n",
        "        if mark[i-1][j] <= t and mark[i+1][j]<= t and mark[i][j-1] <= t and mark[i][j+1] <= t:\r\n",
        "          a[i-1][j-1] = [255,0,0]\r\n",
        "  return a\r\n",
        "\r\n",
        "def experiment(img_name):\r\n",
        "  #исходное\r\n",
        "  im_src=(Image.open(img_name)).convert('RGB')\r\n",
        "  print('исходное изображение')\r\n",
        "  display(im_src)\r\n",
        "  #в оттенках серого\r\n",
        "  im = im_src.convert('L')\r\n",
        "  \r\n",
        "  # расширяем изображение (копируем крайние ряды пикселов)\r\n",
        "  img_array = np.array(im)\r\n",
        "  ex_im = extend_img(img_array)\r\n",
        "  # запуск на gpu\r\n",
        "  res_gpu, time_gpu = exec_gpu(ex_im, im_src)\r\n",
        "  res_gpu_img = Image.fromarray(np.uint8(draw_angle(np.array(im_src), res_gpu)))\r\n",
        "\r\n",
        "  # запуск на cpu\r\n",
        "  res_cpu, time_cpu = harris_cpu(ex_im)\r\n",
        "  res_cpu_img = Image.fromarray(np.uint8(draw_angle(np.array(im_src), res_cpu)))\r\n",
        "  \r\n",
        "  print('time gpu:', time_gpu)\r\n",
        "  print('time cpu:', time_cpu)\r\n",
        "  print('ускорение: ', time_cpu/time_gpu)\r\n",
        "\r\n",
        "  print('изображение полученное на gpu:')\r\n",
        "  display(res_gpu_img)\r\n",
        "  print('изображение полученное на cpu:')\r\n",
        "  display(res_cpu_img)\r\n",
        "\r\n",
        "  # сохраняем изображения\r\n",
        "  res_gpu_img.save('gpu_'+img_name)\r\n",
        "  res_cpu_img.save('cpu_'+img_name)\r\n",
        "  \r\n",
        "\r\n",
        "# experiment('out.jpg')\r\n",
        "experiment('5.png')"
      ],
      "execution_count": 61,
      "outputs": [
        {
          "output_type": "stream",
          "text": [
            "исходное изображение\n"
          ],
          "name": "stdout"
        },
        {
          "output_type": "display_data",
          "data": {
            "image/png": "[encoded data removed]",
            "text/plain": [
              "<PIL.Image.Image image mode=RGB size=384x384 at 0x7F270821A198>"
            ]
          },
          "metadata": {
            "tags": []
          }
        },
        {
          "output_type": "stream",
          "text": [
            "time gpu: 0.3714725971221924\n",
            "time cpu: 4.637669086456299\n",
            "ускорение:  12.484552352944574\n",
            "изображение полученное на gpu:\n"
          ],
          "name": "stdout"
        },
        {
          "output_type": "display_data",
          "data": {
            "image/png": "[encoded data removed]",
            "text/plain": [
              "<PIL.Image.Image image mode=RGB size=384x384 at 0x7F27073274E0>"
            ]
          },
          "metadata": {
            "tags": []
          }
        },
        {
          "output_type": "stream",
          "text": [
            "изображение полученное на cpu:\n"
          ],
          "name": "stdout"
        },
        {
          "output_type": "display_data",
          "data": {
            "image/png": "[encoded data removed]",
            "text/plain": [
              "<PIL.Image.Image image mode=RGB size=384x384 at 0x7F27073278D0>"
            ]
          },
          "metadata": {
            "tags": []
          }
        }
      ]
    }
  ]
}