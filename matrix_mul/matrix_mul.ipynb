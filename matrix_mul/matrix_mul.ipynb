{
  "nbformat": 4,
  "nbformat_minor": 0,
  "metadata": {
    "colab": {
      "name": "matrix_mul.ipynb",
      "provenance": [],
      "collapsed_sections": []
    },
    "kernelspec": {
      "name": "python3",
      "display_name": "Python 3"
    },
    "accelerator": "GPU"
  },
  "cells": [
    {
      "cell_type": "code",
      "metadata": {
        "id": "Cr9N-5jf8Qw8"
      },
      "source": [
        "import numpy as np\r\n",
        "from numba import cuda\r\n",
        "from time import time\r\n",
        "import math\r\n",
        "import matplotlib.pyplot as plt"
      ],
      "execution_count": 30,
      "outputs": []
    },
    {
      "cell_type": "code",
      "metadata": {
        "id": "Fq_-Smt7vrx1"
      },
      "source": [
        "# умножение с помощю np, возвращает итоговую матрицу и время работы\n",
        "def dot_cpu(a, b):\n",
        "  start = time()\n",
        "  c = np.dot(a, b)\n",
        "  return c, time() - start\n",
        "\n",
        "# функция умножения на gpu\n",
        "@cuda.jit\n",
        "def dot_gpu(a, b, c):\n",
        "    i, j = cuda.grid(2)\n",
        "    if i < c.shape[0] and j < c.shape[1]:\n",
        "      tmp = 0\n",
        "      for k in range(a.shape[1]):\n",
        "        tmp += a[i, k] * b[k, j]\n",
        "      c[i, j] = tmp\n",
        "\n",
        "# функция которая, подготавливает все для запуска на гпу и вызывает функцию\n",
        "def exec_gpu(a, b, c):\n",
        "  # количество нитей в блоке\n",
        "  tread_number_block = 32\n",
        "  # копируем на гпу все данные\n",
        "  a_global = cuda.to_device(a)\n",
        "  b_global = cuda.to_device(b)\n",
        "  c_global = cuda.device_array((a.shape[0], a.shape[1]))\n",
        "    \n",
        "  # создаем сетку\n",
        "  threadsperblock = (tread_number_block, tread_number_block)\n",
        "  blockspergrid_x = int(math.ceil(a.shape[0] / threadsperblock[1]))\n",
        "  blockspergrid_y = int(math.ceil(b.shape[1] / threadsperblock[0]))\n",
        "  blockspergrid = (blockspergrid_x, blockspergrid_y)\n",
        "\n",
        "  start = time()\n",
        "  # вызываем функцию на сетке\n",
        "  dot_gpu[blockspergrid, threadsperblock](a_global, b_global, c_global)\n",
        "  gpu_time = time() - start\n",
        "  c_gpu = c_global.copy_to_host() \n",
        "  return c_gpu, gpu_time"
      ],
      "execution_count": 31,
      "outputs": []
    },
    {
      "cell_type": "markdown",
      "metadata": {
        "id": "HxC-EgCu70Ku"
      },
      "source": [
        "**Произведение вычислений и вывод результатов**"
      ]
    },
    {
      "cell_type": "code",
      "metadata": {
        "id": "rjPP9NIl78Ro",
        "outputId": "8a703b1e-2c07-46da-e951-97d521f4954f",
        "colab": {
          "base_uri": "https://localhost:8080/"
        }
      },
      "source": [
        "def experiment(n):  \r\n",
        "  gpu_time = 0\r\n",
        "  cpu_time = 0\r\n",
        "  a = np.random.randint(0, 10, (n, n)).astype(np.float64)\r\n",
        "  b = np.random.randint(0, 10, (n, n)).astype(np.float64)\r\n",
        "  c = np.zeros((n, n)).astype(np.float64)\r\n",
        "    \r\n",
        "  c_gpu, gpu_time = exec_gpu(a, b, c)\r\n",
        "  start = time()\r\n",
        "  c_cpu, cpu_time = dot_cpu(a, b)\r\n",
        "\r\n",
        "  return cpu_time/gpu_time, cpu_time, gpu_time\r\n",
        "\r\n",
        "# n = [128, 256, 512, 1024, 2048]\r\n",
        "n = range(100, 2100, 100)\r\n",
        "# n = [100, 128, 200, 256, 300, 400, 500, 512, 600, 700, 800, 900, 1000, 1024, 1100, 1200, 1300, 1400, 1500, 1600, 1700, 1800, 1900, 2000, 2048]\r\n",
        "a = []\r\n",
        "c = []\r\n",
        "g = []\r\n",
        "for ni in n:\r\n",
        "  ai, ci, gi = experiment(ni)\r\n",
        "  a.append(ai)\r\n",
        "  c.append(ci)\r\n",
        "  g.append(gi)\r\n",
        "\r\n",
        "print('|n\\t|cpu\\t\\t|gpu\\t\\t|a\\t\\t|')\r\n",
        "for i in range(len(n)):\r\n",
        "  # print('|',n[i],'\\t|',c[i],'\\t|',g[i],'\\t|')\r\n",
        "  print('|{:d}\\t|{:f}\\t|{:f}\\t|{:f}\\t|'.format(n[i], c[i], g[i], a[i]))"
      ],
      "execution_count": 56,
      "outputs": [
        {
          "output_type": "stream",
          "text": [
            "|n\t|cpu\t\t|gpu\t\t|a\t\t|\n",
            "|100\t|0.004259\t|0.000442\t|9.634304\t|\n",
            "|200\t|0.001849\t|0.000327\t|5.657185\t|\n",
            "|300\t|0.001826\t|0.000538\t|3.391054\t|\n",
            "|400\t|0.003521\t|0.000506\t|6.959001\t|\n",
            "|500\t|0.006486\t|0.000409\t|15.853147\t|\n",
            "|600\t|0.011333\t|0.000814\t|13.927630\t|\n",
            "|700\t|0.017124\t|0.000449\t|38.143919\t|\n",
            "|800\t|0.025570\t|0.000484\t|52.884122\t|\n",
            "|900\t|0.036519\t|0.000523\t|69.814494\t|\n",
            "|1000\t|0.050457\t|0.000545\t|92.659370\t|\n",
            "|1100\t|0.066093\t|0.000560\t|118.114188\t|\n",
            "|1200\t|0.082065\t|0.000530\t|154.768885\t|\n",
            "|1300\t|0.103313\t|0.000531\t|194.403769\t|\n",
            "|1400\t|0.130593\t|0.000509\t|256.436330\t|\n",
            "|1500\t|0.159770\t|0.000574\t|278.406315\t|\n",
            "|1600\t|0.195457\t|0.000560\t|349.150767\t|\n",
            "|1700\t|0.230680\t|0.000392\t|587.814095\t|\n",
            "|1800\t|0.277261\t|0.000419\t|661.501138\t|\n",
            "|1900\t|0.320773\t|0.000415\t|773.673951\t|\n",
            "|2000\t|0.367951\t|0.000401\t|917.538644\t|\n"
          ],
          "name": "stdout"
        }
      ]
    },
    {
      "cell_type": "markdown",
      "metadata": {
        "id": "OAhFPtSt8Ejm"
      },
      "source": [
        "**График зависимости получаемого ускорения от размерности матриц**"
      ]
    },
    {
      "cell_type": "code",
      "metadata": {
        "id": "iThBP_kC8DZ3",
        "outputId": "8e6c630b-d830-4a28-e29b-5f86eba64267",
        "colab": {
          "base_uri": "https://localhost:8080/",
          "height": 265
        }
      },
      "source": [
        "plt.plot(np.array(n), np.array(a))\r\n",
        "plt.show()"
      ],
      "execution_count": 57,
      "outputs": [
        {
          "output_type": "display_data",
          "data": {
            "image/png": "[encoded data removed]",
            "text/plain": [
              "<Figure size 432x288 with 1 Axes>"
            ]
          },
          "metadata": {
            "tags": [],
            "needs_background": "light"
          }
        }
      ]
    },
    {
      "cell_type": "markdown",
      "metadata": {
        "id": "GOKK3NqI7bT7"
      },
      "source": [
        "**Проверка корректности вычисления на GPU**"
      ]
    },
    {
      "cell_type": "code",
      "metadata": {
        "id": "U2AIqaUs7agq",
        "outputId": "59867afb-6a90-46ba-f6ba-c3dad42e5aab",
        "colab": {
          "base_uri": "https://localhost:8080/"
        }
      },
      "source": [
        "def check_dot(n):\r\n",
        "  a = np.random.randint(0, 10, (n, n)).astype(np.float64)\r\n",
        "  b = np.random.randint(0, 10, (n, n)).astype(np.float64)\r\n",
        "  c = np.zeros((n, n)).astype(np.float64)\r\n",
        "\r\n",
        "  c_cpu = dot_cpu(a,b)[0]\r\n",
        "  c_gpu = exec_gpu(a, b, c)[0]\r\n",
        "  if np.array_equal(c_cpu, c_gpu):\r\n",
        "    print('Считается корректно')\r\n",
        "\r\n",
        "\r\n",
        "check_dot(128)"
      ],
      "execution_count": 13,
      "outputs": [
        {
          "output_type": "stream",
          "text": [
            "Считается корректно\n"
          ],
          "name": "stdout"
        }
      ]
    }
  ]
}